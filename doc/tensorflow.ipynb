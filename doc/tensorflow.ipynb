{
 "cells": [
  {
   "cell_type": "markdown",
   "metadata": {},
   "source": [
    "# THINGSvision"
   ]
  },
  {
   "cell_type": "markdown",
   "metadata": {},
   "source": [
    "## Settings"
   ]
  },
  {
   "cell_type": "markdown",
   "metadata": {
    "id": "3ICWd-3iA671"
   },
   "source": [
    "### Install thingsvision and dependencies"
   ]
  },
  {
   "cell_type": "code",
   "execution_count": 2,
   "metadata": {
    "id": "h0nVMt-M_KX_"
   },
   "outputs": [
    {
     "name": "stdout",
     "output_type": "stream",
     "text": [
      "Requirement already satisfied: thingsvision in /Users/lmuttenthaler/anaconda3/envs/thingsvision/lib/python3.8/site-packages (1.1.6)\n",
      "Requirement already satisfied: torchvision in /Users/lmuttenthaler/anaconda3/envs/thingsvision/lib/python3.8/site-packages (from thingsvision) (0.8.0a0)\n",
      "Requirement already satisfied: scipy in /Users/lmuttenthaler/anaconda3/envs/thingsvision/lib/python3.8/site-packages (from thingsvision) (1.6.2)\n",
      "Requirement already satisfied: torch in /Users/lmuttenthaler/anaconda3/envs/thingsvision/lib/python3.8/site-packages (from thingsvision) (1.7.1)\n",
      "Requirement already satisfied: scikit-learn in /Users/lmuttenthaler/anaconda3/envs/thingsvision/lib/python3.8/site-packages (from thingsvision) (0.24.2)\n",
      "Requirement already satisfied: regex in /Users/lmuttenthaler/anaconda3/envs/thingsvision/lib/python3.8/site-packages (from thingsvision) (2021.7.6)\n",
      "Requirement already satisfied: tqdm in /Users/lmuttenthaler/anaconda3/envs/thingsvision/lib/python3.8/site-packages (from thingsvision) (4.47.0)\n",
      "Requirement already satisfied: numba in /Users/lmuttenthaler/anaconda3/envs/thingsvision/lib/python3.8/site-packages (from thingsvision) (0.53.1)\n",
      "Requirement already satisfied: h5py in /Users/lmuttenthaler/anaconda3/envs/thingsvision/lib/python3.8/site-packages (from thingsvision) (3.1.0)\n",
      "Requirement already satisfied: tensorflow in /Users/lmuttenthaler/anaconda3/envs/thingsvision/lib/python3.8/site-packages (from thingsvision) (2.5.0)\n",
      "Requirement already satisfied: scikit-image in /Users/lmuttenthaler/anaconda3/envs/thingsvision/lib/python3.8/site-packages (from thingsvision) (0.18.1)\n",
      "Requirement already satisfied: matplotlib in /Users/lmuttenthaler/anaconda3/envs/thingsvision/lib/python3.8/site-packages (from thingsvision) (3.2.2)\n",
      "Requirement already satisfied: pandas in /Users/lmuttenthaler/anaconda3/envs/thingsvision/lib/python3.8/site-packages (from thingsvision) (1.0.5)\n",
      "Requirement already satisfied: ftfy in /Users/lmuttenthaler/anaconda3/envs/thingsvision/lib/python3.8/site-packages (from thingsvision) (5.8)\n",
      "Requirement already satisfied: numpy in /Users/lmuttenthaler/anaconda3/envs/thingsvision/lib/python3.8/site-packages (from thingsvision) (1.19.2)\n",
      "Requirement already satisfied: wcwidth in /Users/lmuttenthaler/anaconda3/envs/thingsvision/lib/python3.8/site-packages (from ftfy->thingsvision) (0.2.5)\n",
      "Requirement already satisfied: python-dateutil>=2.1 in /Users/lmuttenthaler/anaconda3/envs/thingsvision/lib/python3.8/site-packages (from matplotlib->thingsvision) (2.8.2)\n",
      "Requirement already satisfied: pyparsing!=2.0.4,!=2.1.2,!=2.1.6,>=2.0.1 in /Users/lmuttenthaler/anaconda3/envs/thingsvision/lib/python3.8/site-packages (from matplotlib->thingsvision) (2.4.7)\n",
      "Requirement already satisfied: kiwisolver>=1.0.1 in /Users/lmuttenthaler/anaconda3/envs/thingsvision/lib/python3.8/site-packages (from matplotlib->thingsvision) (1.3.1)\n",
      "Requirement already satisfied: cycler>=0.10 in /Users/lmuttenthaler/anaconda3/envs/thingsvision/lib/python3.8/site-packages (from matplotlib->thingsvision) (0.10.0)\n",
      "Requirement already satisfied: six in /Users/lmuttenthaler/anaconda3/envs/thingsvision/lib/python3.8/site-packages (from cycler>=0.10->matplotlib->thingsvision) (1.15.0)\n",
      "Requirement already satisfied: llvmlite<0.37,>=0.36.0rc1 in /Users/lmuttenthaler/anaconda3/envs/thingsvision/lib/python3.8/site-packages (from numba->thingsvision) (0.36.0)\n",
      "Requirement already satisfied: setuptools in /Users/lmuttenthaler/.local/lib/python3.8/site-packages (from numba->thingsvision) (51.3.3)\n",
      "Requirement already satisfied: pytz>=2017.2 in /Users/lmuttenthaler/anaconda3/envs/thingsvision/lib/python3.8/site-packages (from pandas->thingsvision) (2021.1)\n",
      "Requirement already satisfied: networkx>=2.0 in /Users/lmuttenthaler/anaconda3/envs/thingsvision/lib/python3.8/site-packages (from scikit-image->thingsvision) (2.6.2)\n",
      "Requirement already satisfied: pillow!=7.1.0,!=7.1.1,>=4.3.0 in /Users/lmuttenthaler/anaconda3/envs/thingsvision/lib/python3.8/site-packages (from scikit-image->thingsvision) (8.3.1)\n",
      "Requirement already satisfied: imageio>=2.3.0 in /Users/lmuttenthaler/anaconda3/envs/thingsvision/lib/python3.8/site-packages (from scikit-image->thingsvision) (2.9.0)\n",
      "Requirement already satisfied: tifffile>=2019.7.26 in /Users/lmuttenthaler/anaconda3/envs/thingsvision/lib/python3.8/site-packages (from scikit-image->thingsvision) (2021.7.2)\n",
      "Requirement already satisfied: PyWavelets>=1.1.1 in /Users/lmuttenthaler/anaconda3/envs/thingsvision/lib/python3.8/site-packages (from scikit-image->thingsvision) (1.1.1)\n",
      "Requirement already satisfied: joblib>=0.11 in /Users/lmuttenthaler/anaconda3/envs/thingsvision/lib/python3.8/site-packages (from scikit-learn->thingsvision) (1.0.1)\n",
      "Requirement already satisfied: threadpoolctl>=2.0.0 in /Users/lmuttenthaler/anaconda3/envs/thingsvision/lib/python3.8/site-packages (from scikit-learn->thingsvision) (2.2.0)\n",
      "Requirement already satisfied: tensorboard~=2.5 in /Users/lmuttenthaler/anaconda3/envs/thingsvision/lib/python3.8/site-packages (from tensorflow->thingsvision) (2.5.0)\n",
      "Requirement already satisfied: tensorflow-estimator<2.6.0,>=2.5.0rc0 in /Users/lmuttenthaler/anaconda3/envs/thingsvision/lib/python3.8/site-packages (from tensorflow->thingsvision) (2.5.0)\n",
      "Requirement already satisfied: wheel~=0.35 in /Users/lmuttenthaler/.local/lib/python3.8/site-packages (from tensorflow->thingsvision) (0.36.2)\n",
      "Requirement already satisfied: protobuf>=3.9.2 in /Users/lmuttenthaler/anaconda3/envs/thingsvision/lib/python3.8/site-packages (from tensorflow->thingsvision) (3.17.3)\n",
      "Requirement already satisfied: opt-einsum~=3.3.0 in /Users/lmuttenthaler/anaconda3/envs/thingsvision/lib/python3.8/site-packages (from tensorflow->thingsvision) (3.3.0)\n",
      "Requirement already satisfied: keras-nightly~=2.5.0.dev in /Users/lmuttenthaler/anaconda3/envs/thingsvision/lib/python3.8/site-packages (from tensorflow->thingsvision) (2.5.0.dev2021032900)\n",
      "Requirement already satisfied: typing-extensions~=3.7.4 in /Users/lmuttenthaler/anaconda3/envs/thingsvision/lib/python3.8/site-packages (from tensorflow->thingsvision) (3.7.4.3)\n",
      "Requirement already satisfied: termcolor~=1.1.0 in /Users/lmuttenthaler/anaconda3/envs/thingsvision/lib/python3.8/site-packages (from tensorflow->thingsvision) (1.1.0)\n",
      "Requirement already satisfied: keras-preprocessing~=1.1.2 in /Users/lmuttenthaler/anaconda3/envs/thingsvision/lib/python3.8/site-packages (from tensorflow->thingsvision) (1.1.2)\n",
      "Requirement already satisfied: flatbuffers~=1.12.0 in /Users/lmuttenthaler/anaconda3/envs/thingsvision/lib/python3.8/site-packages (from tensorflow->thingsvision) (1.12)\n",
      "Requirement already satisfied: astunparse~=1.6.3 in /Users/lmuttenthaler/anaconda3/envs/thingsvision/lib/python3.8/site-packages (from tensorflow->thingsvision) (1.6.3)\n",
      "Requirement already satisfied: absl-py~=0.10 in /Users/lmuttenthaler/anaconda3/envs/thingsvision/lib/python3.8/site-packages (from tensorflow->thingsvision) (0.13.0)\n",
      "Requirement already satisfied: wrapt~=1.12.1 in /Users/lmuttenthaler/anaconda3/envs/thingsvision/lib/python3.8/site-packages (from tensorflow->thingsvision) (1.12.1)\n",
      "Requirement already satisfied: grpcio~=1.34.0 in /Users/lmuttenthaler/anaconda3/envs/thingsvision/lib/python3.8/site-packages (from tensorflow->thingsvision) (1.34.1)\n",
      "Requirement already satisfied: google-pasta~=0.2 in /Users/lmuttenthaler/anaconda3/envs/thingsvision/lib/python3.8/site-packages (from tensorflow->thingsvision) (0.2.0)\n",
      "Requirement already satisfied: gast==0.4.0 in /Users/lmuttenthaler/anaconda3/envs/thingsvision/lib/python3.8/site-packages (from tensorflow->thingsvision) (0.4.0)\n",
      "Requirement already satisfied: werkzeug>=0.11.15 in /Users/lmuttenthaler/anaconda3/envs/thingsvision/lib/python3.8/site-packages (from tensorboard~=2.5->tensorflow->thingsvision) (2.0.1)\n",
      "Requirement already satisfied: tensorboard-plugin-wit>=1.6.0 in /Users/lmuttenthaler/anaconda3/envs/thingsvision/lib/python3.8/site-packages (from tensorboard~=2.5->tensorflow->thingsvision) (1.8.0)\n",
      "Requirement already satisfied: markdown>=2.6.8 in /Users/lmuttenthaler/anaconda3/envs/thingsvision/lib/python3.8/site-packages (from tensorboard~=2.5->tensorflow->thingsvision) (3.3.4)\n",
      "Requirement already satisfied: tensorboard-data-server<0.7.0,>=0.6.0 in /Users/lmuttenthaler/anaconda3/envs/thingsvision/lib/python3.8/site-packages (from tensorboard~=2.5->tensorflow->thingsvision) (0.6.1)\n",
      "Requirement already satisfied: google-auth-oauthlib<0.5,>=0.4.1 in /Users/lmuttenthaler/anaconda3/envs/thingsvision/lib/python3.8/site-packages (from tensorboard~=2.5->tensorflow->thingsvision) (0.4.5)\n",
      "Requirement already satisfied: requests<3,>=2.21.0 in /Users/lmuttenthaler/anaconda3/envs/thingsvision/lib/python3.8/site-packages (from tensorboard~=2.5->tensorflow->thingsvision) (2.25.1)\n",
      "Requirement already satisfied: google-auth<2,>=1.6.3 in /Users/lmuttenthaler/anaconda3/envs/thingsvision/lib/python3.8/site-packages (from tensorboard~=2.5->tensorflow->thingsvision) (1.34.0)\n",
      "Requirement already satisfied: cachetools<5.0,>=2.0.0 in /Users/lmuttenthaler/anaconda3/envs/thingsvision/lib/python3.8/site-packages (from google-auth<2,>=1.6.3->tensorboard~=2.5->tensorflow->thingsvision) (4.2.2)\n",
      "Requirement already satisfied: rsa<5,>=3.1.4 in /Users/lmuttenthaler/anaconda3/envs/thingsvision/lib/python3.8/site-packages (from google-auth<2,>=1.6.3->tensorboard~=2.5->tensorflow->thingsvision) (4.7.2)\n",
      "Requirement already satisfied: pyasn1-modules>=0.2.1 in /Users/lmuttenthaler/anaconda3/envs/thingsvision/lib/python3.8/site-packages (from google-auth<2,>=1.6.3->tensorboard~=2.5->tensorflow->thingsvision) (0.2.8)\n",
      "Requirement already satisfied: requests-oauthlib>=0.7.0 in /Users/lmuttenthaler/anaconda3/envs/thingsvision/lib/python3.8/site-packages (from google-auth-oauthlib<0.5,>=0.4.1->tensorboard~=2.5->tensorflow->thingsvision) (1.3.0)\n",
      "Requirement already satisfied: pyasn1<0.5.0,>=0.4.6 in /Users/lmuttenthaler/anaconda3/envs/thingsvision/lib/python3.8/site-packages (from pyasn1-modules>=0.2.1->google-auth<2,>=1.6.3->tensorboard~=2.5->tensorflow->thingsvision) (0.4.8)\n"
     ]
    },
    {
     "name": "stdout",
     "output_type": "stream",
     "text": [
      "Requirement already satisfied: chardet<5,>=3.0.2 in /Users/lmuttenthaler/anaconda3/envs/thingsvision/lib/python3.8/site-packages (from requests<3,>=2.21.0->tensorboard~=2.5->tensorflow->thingsvision) (4.0.0)\r\n",
      "Requirement already satisfied: certifi>=2017.4.17 in /Users/lmuttenthaler/anaconda3/envs/thingsvision/lib/python3.8/site-packages (from requests<3,>=2.21.0->tensorboard~=2.5->tensorflow->thingsvision) (2021.10.8)\r\n",
      "Requirement already satisfied: urllib3<1.27,>=1.21.1 in /Users/lmuttenthaler/anaconda3/envs/thingsvision/lib/python3.8/site-packages (from requests<3,>=2.21.0->tensorboard~=2.5->tensorflow->thingsvision) (1.26.6)\r\n",
      "Requirement already satisfied: idna<3,>=2.5 in /Users/lmuttenthaler/anaconda3/envs/thingsvision/lib/python3.8/site-packages (from requests<3,>=2.21.0->tensorboard~=2.5->tensorflow->thingsvision) (2.10)\r\n",
      "Requirement already satisfied: oauthlib>=3.0.0 in /Users/lmuttenthaler/anaconda3/envs/thingsvision/lib/python3.8/site-packages (from requests-oauthlib>=0.7.0->google-auth-oauthlib<0.5,>=0.4.1->tensorboard~=2.5->tensorflow->thingsvision) (3.1.1)\r\n"
     ]
    }
   ],
   "source": [
    "!pip install --upgrade thingsvision"
   ]
  },
  {
   "cell_type": "code",
   "execution_count": 3,
   "metadata": {},
   "outputs": [
    {
     "name": "stdout",
     "output_type": "stream",
     "text": [
      "Requirement already satisfied: ipywidgets in /Users/lmuttenthaler/anaconda3/envs/thingsvision/lib/python3.8/site-packages (7.6.5)\n",
      "Requirement already satisfied: ipython-genutils~=0.2.0 in /Users/lmuttenthaler/anaconda3/envs/thingsvision/lib/python3.8/site-packages (from ipywidgets) (0.2.0)\n",
      "Requirement already satisfied: jupyterlab-widgets>=1.0.0 in /Users/lmuttenthaler/anaconda3/envs/thingsvision/lib/python3.8/site-packages (from ipywidgets) (1.0.2)\n",
      "Requirement already satisfied: ipykernel>=4.5.1 in /Users/lmuttenthaler/anaconda3/envs/thingsvision/lib/python3.8/site-packages (from ipywidgets) (6.4.1)\n",
      "Requirement already satisfied: traitlets>=4.3.1 in /Users/lmuttenthaler/anaconda3/envs/thingsvision/lib/python3.8/site-packages (from ipywidgets) (5.1.0)\n",
      "Requirement already satisfied: ipython>=4.0.0 in /Users/lmuttenthaler/anaconda3/envs/thingsvision/lib/python3.8/site-packages (from ipywidgets) (7.27.0)\n",
      "Requirement already satisfied: widgetsnbextension~=3.5.0 in /Users/lmuttenthaler/anaconda3/envs/thingsvision/lib/python3.8/site-packages (from ipywidgets) (3.5.2)\n",
      "Requirement already satisfied: nbformat>=4.2.0 in /Users/lmuttenthaler/anaconda3/envs/thingsvision/lib/python3.8/site-packages (from ipywidgets) (5.1.3)\n",
      "Requirement already satisfied: debugpy<2.0,>=1.0.0 in /Users/lmuttenthaler/anaconda3/envs/thingsvision/lib/python3.8/site-packages (from ipykernel>=4.5.1->ipywidgets) (1.4.1)\n",
      "Requirement already satisfied: matplotlib-inline<0.2.0,>=0.1.0 in /Users/lmuttenthaler/anaconda3/envs/thingsvision/lib/python3.8/site-packages (from ipykernel>=4.5.1->ipywidgets) (0.1.3)\n",
      "Requirement already satisfied: jupyter-client<8.0 in /Users/lmuttenthaler/anaconda3/envs/thingsvision/lib/python3.8/site-packages (from ipykernel>=4.5.1->ipywidgets) (7.0.3)\n",
      "Requirement already satisfied: appnope in /Users/lmuttenthaler/anaconda3/envs/thingsvision/lib/python3.8/site-packages (from ipykernel>=4.5.1->ipywidgets) (0.1.2)\n",
      "Requirement already satisfied: tornado<7.0,>=4.2 in /Users/lmuttenthaler/anaconda3/envs/thingsvision/lib/python3.8/site-packages (from ipykernel>=4.5.1->ipywidgets) (6.1)\n",
      "Requirement already satisfied: pygments in /Users/lmuttenthaler/anaconda3/envs/thingsvision/lib/python3.8/site-packages (from ipython>=4.0.0->ipywidgets) (2.10.0)\n",
      "Requirement already satisfied: jedi>=0.16 in /Users/lmuttenthaler/anaconda3/envs/thingsvision/lib/python3.8/site-packages (from ipython>=4.0.0->ipywidgets) (0.18.0)\n",
      "Requirement already satisfied: backcall in /Users/lmuttenthaler/anaconda3/envs/thingsvision/lib/python3.8/site-packages (from ipython>=4.0.0->ipywidgets) (0.2.0)\n",
      "Requirement already satisfied: pickleshare in /Users/lmuttenthaler/anaconda3/envs/thingsvision/lib/python3.8/site-packages (from ipython>=4.0.0->ipywidgets) (0.7.5)\n",
      "Requirement already satisfied: pexpect>4.3 in /Users/lmuttenthaler/anaconda3/envs/thingsvision/lib/python3.8/site-packages (from ipython>=4.0.0->ipywidgets) (4.8.0)\n",
      "Requirement already satisfied: setuptools>=18.5 in /Users/lmuttenthaler/.local/lib/python3.8/site-packages (from ipython>=4.0.0->ipywidgets) (51.3.3)\n",
      "Requirement already satisfied: prompt-toolkit!=3.0.0,!=3.0.1,<3.1.0,>=2.0.0 in /Users/lmuttenthaler/anaconda3/envs/thingsvision/lib/python3.8/site-packages (from ipython>=4.0.0->ipywidgets) (3.0.20)\n",
      "Requirement already satisfied: decorator in /Users/lmuttenthaler/anaconda3/envs/thingsvision/lib/python3.8/site-packages (from ipython>=4.0.0->ipywidgets) (5.1.0)\n",
      "Requirement already satisfied: parso<0.9.0,>=0.8.0 in /Users/lmuttenthaler/anaconda3/envs/thingsvision/lib/python3.8/site-packages (from jedi>=0.16->ipython>=4.0.0->ipywidgets) (0.8.2)\n",
      "Requirement already satisfied: pyzmq>=13 in /Users/lmuttenthaler/anaconda3/envs/thingsvision/lib/python3.8/site-packages (from jupyter-client<8.0->ipykernel>=4.5.1->ipywidgets) (22.3.0)\n",
      "Requirement already satisfied: entrypoints in /Users/lmuttenthaler/anaconda3/envs/thingsvision/lib/python3.8/site-packages (from jupyter-client<8.0->ipykernel>=4.5.1->ipywidgets) (0.3)\n",
      "Requirement already satisfied: python-dateutil>=2.1 in /Users/lmuttenthaler/anaconda3/envs/thingsvision/lib/python3.8/site-packages (from jupyter-client<8.0->ipykernel>=4.5.1->ipywidgets) (2.8.2)\n",
      "Requirement already satisfied: jupyter-core>=4.6.0 in /Users/lmuttenthaler/anaconda3/envs/thingsvision/lib/python3.8/site-packages (from jupyter-client<8.0->ipykernel>=4.5.1->ipywidgets) (4.8.1)\n",
      "Requirement already satisfied: nest-asyncio>=1.5 in /Users/lmuttenthaler/anaconda3/envs/thingsvision/lib/python3.8/site-packages (from jupyter-client<8.0->ipykernel>=4.5.1->ipywidgets) (1.5.1)\n",
      "Requirement already satisfied: jsonschema!=2.5.0,>=2.4 in /Users/lmuttenthaler/anaconda3/envs/thingsvision/lib/python3.8/site-packages (from nbformat>=4.2.0->ipywidgets) (3.2.0)\n",
      "Requirement already satisfied: pyrsistent>=0.14.0 in /Users/lmuttenthaler/anaconda3/envs/thingsvision/lib/python3.8/site-packages (from jsonschema!=2.5.0,>=2.4->nbformat>=4.2.0->ipywidgets) (0.17.3)\n",
      "Requirement already satisfied: attrs>=17.4.0 in /Users/lmuttenthaler/anaconda3/envs/thingsvision/lib/python3.8/site-packages (from jsonschema!=2.5.0,>=2.4->nbformat>=4.2.0->ipywidgets) (21.2.0)\n",
      "Requirement already satisfied: six>=1.11.0 in /Users/lmuttenthaler/anaconda3/envs/thingsvision/lib/python3.8/site-packages (from jsonschema!=2.5.0,>=2.4->nbformat>=4.2.0->ipywidgets) (1.15.0)\n",
      "Requirement already satisfied: ptyprocess>=0.5 in /Users/lmuttenthaler/anaconda3/envs/thingsvision/lib/python3.8/site-packages (from pexpect>4.3->ipython>=4.0.0->ipywidgets) (0.7.0)\n",
      "Requirement already satisfied: wcwidth in /Users/lmuttenthaler/anaconda3/envs/thingsvision/lib/python3.8/site-packages (from prompt-toolkit!=3.0.0,!=3.0.1,<3.1.0,>=2.0.0->ipython>=4.0.0->ipywidgets) (0.2.5)\n",
      "Requirement already satisfied: notebook>=4.4.1 in /Users/lmuttenthaler/anaconda3/envs/thingsvision/lib/python3.8/site-packages (from widgetsnbextension~=3.5.0->ipywidgets) (6.4.4)\n",
      "Requirement already satisfied: prometheus-client in /Users/lmuttenthaler/anaconda3/envs/thingsvision/lib/python3.8/site-packages (from notebook>=4.4.1->widgetsnbextension~=3.5.0->ipywidgets) (0.11.0)\n",
      "Requirement already satisfied: Send2Trash>=1.5.0 in /Users/lmuttenthaler/anaconda3/envs/thingsvision/lib/python3.8/site-packages (from notebook>=4.4.1->widgetsnbextension~=3.5.0->ipywidgets) (1.8.0)\n",
      "Requirement already satisfied: jinja2 in /Users/lmuttenthaler/anaconda3/envs/thingsvision/lib/python3.8/site-packages (from notebook>=4.4.1->widgetsnbextension~=3.5.0->ipywidgets) (3.0.1)\n",
      "Requirement already satisfied: argon2-cffi in /Users/lmuttenthaler/anaconda3/envs/thingsvision/lib/python3.8/site-packages (from notebook>=4.4.1->widgetsnbextension~=3.5.0->ipywidgets) (20.1.0)\n",
      "Requirement already satisfied: terminado>=0.8.3 in /Users/lmuttenthaler/anaconda3/envs/thingsvision/lib/python3.8/site-packages (from notebook>=4.4.1->widgetsnbextension~=3.5.0->ipywidgets) (0.12.1)\n",
      "Requirement already satisfied: nbconvert in /Users/lmuttenthaler/anaconda3/envs/thingsvision/lib/python3.8/site-packages (from notebook>=4.4.1->widgetsnbextension~=3.5.0->ipywidgets) (6.1.0)\n",
      "Requirement already satisfied: cffi>=1.0.0 in /Users/lmuttenthaler/anaconda3/envs/thingsvision/lib/python3.8/site-packages (from argon2-cffi->notebook>=4.4.1->widgetsnbextension~=3.5.0->ipywidgets) (1.14.6)\n",
      "Requirement already satisfied: pycparser in /Users/lmuttenthaler/anaconda3/envs/thingsvision/lib/python3.8/site-packages (from cffi>=1.0.0->argon2-cffi->notebook>=4.4.1->widgetsnbextension~=3.5.0->ipywidgets) (2.20)\n",
      "Requirement already satisfied: MarkupSafe>=2.0 in /Users/lmuttenthaler/anaconda3/envs/thingsvision/lib/python3.8/site-packages (from jinja2->notebook>=4.4.1->widgetsnbextension~=3.5.0->ipywidgets) (2.0.1)\n",
      "Requirement already satisfied: defusedxml in /Users/lmuttenthaler/anaconda3/envs/thingsvision/lib/python3.8/site-packages (from nbconvert->notebook>=4.4.1->widgetsnbextension~=3.5.0->ipywidgets) (0.7.1)\n",
      "Requirement already satisfied: jupyterlab-pygments in /Users/lmuttenthaler/anaconda3/envs/thingsvision/lib/python3.8/site-packages (from nbconvert->notebook>=4.4.1->widgetsnbextension~=3.5.0->ipywidgets) (0.1.2)\n",
      "Requirement already satisfied: bleach in /Users/lmuttenthaler/anaconda3/envs/thingsvision/lib/python3.8/site-packages (from nbconvert->notebook>=4.4.1->widgetsnbextension~=3.5.0->ipywidgets) (4.1.0)\n",
      "Requirement already satisfied: nbclient<0.6.0,>=0.5.0 in /Users/lmuttenthaler/anaconda3/envs/thingsvision/lib/python3.8/site-packages (from nbconvert->notebook>=4.4.1->widgetsnbextension~=3.5.0->ipywidgets) (0.5.4)\n",
      "Requirement already satisfied: pandocfilters>=1.4.1 in /Users/lmuttenthaler/anaconda3/envs/thingsvision/lib/python3.8/site-packages (from nbconvert->notebook>=4.4.1->widgetsnbextension~=3.5.0->ipywidgets) (1.5.0)\n",
      "Requirement already satisfied: mistune<2,>=0.8.1 in /Users/lmuttenthaler/anaconda3/envs/thingsvision/lib/python3.8/site-packages (from nbconvert->notebook>=4.4.1->widgetsnbextension~=3.5.0->ipywidgets) (0.8.4)\n",
      "Requirement already satisfied: testpath in /Users/lmuttenthaler/anaconda3/envs/thingsvision/lib/python3.8/site-packages (from nbconvert->notebook>=4.4.1->widgetsnbextension~=3.5.0->ipywidgets) (0.5.0)\n"
     ]
    },
    {
     "name": "stdout",
     "output_type": "stream",
     "text": [
      "Requirement already satisfied: packaging in /Users/lmuttenthaler/anaconda3/envs/thingsvision/lib/python3.8/site-packages (from bleach->nbconvert->notebook>=4.4.1->widgetsnbextension~=3.5.0->ipywidgets) (21.0)\r\n",
      "Requirement already satisfied: webencodings in /Users/lmuttenthaler/anaconda3/envs/thingsvision/lib/python3.8/site-packages (from bleach->nbconvert->notebook>=4.4.1->widgetsnbextension~=3.5.0->ipywidgets) (0.5.1)\r\n",
      "Requirement already satisfied: pyparsing>=2.0.2 in /Users/lmuttenthaler/anaconda3/envs/thingsvision/lib/python3.8/site-packages (from packaging->bleach->nbconvert->notebook>=4.4.1->widgetsnbextension~=3.5.0->ipywidgets) (2.4.7)\r\n"
     ]
    }
   ],
   "source": [
    "!pip install ipywidgets"
   ]
  },
  {
   "cell_type": "code",
   "execution_count": 9,
   "metadata": {
    "id": "yq-bNySyBGO-"
   },
   "outputs": [],
   "source": [
    "import torch\n",
    "import tensorflow\n",
    "import os\n",
    "import thingsvision.vision as vision\n",
    "import numpy as np\n",
    "\n",
    "from thingsvision.model_class import Model\n",
    "from google.colab import drive\n",
    "from typing import Any"
   ]
  },
  {
   "cell_type": "markdown",
   "metadata": {},
   "source": [
    "### Image and feature directories"
   ]
  },
  {
   "cell_type": "markdown",
   "metadata": {
    "id": "PHSuNkaIAZw2"
   },
   "source": [
    "Specify both `path/to/images` (input directory) and `path/to/features` (output directory) on your Google Drive. \n",
    "The image directory is expected to contain images that are saved similarly to `/dog/img_1.png` or `/cat/img_1.jpg`. "
   ]
  },
  {
   "cell_type": "code",
   "execution_count": 10,
   "metadata": {},
   "outputs": [],
   "source": [
    "image_dir = 'path/to/images'  # path/to/images in GDrive\n",
    "output_dir = 'path/to/features' # path/to/output  in GDrive"
   ]
  },
  {
   "cell_type": "markdown",
   "metadata": {
    "id": "xF0R7sFu-7gI"
   },
   "source": [
    "Mount Google Drive "
   ]
  },
  {
   "cell_type": "code",
   "execution_count": 12,
   "metadata": {
    "colab": {
     "base_uri": "https://localhost:8080/"
    },
    "id": "I8nY_u1p-1F6",
    "outputId": "fd0e4a58-872c-4bfd-fb79-17586d6e48ce"
   },
   "outputs": [],
   "source": [
    "mounted_dir = '/thingsvision'\n",
    "drive.mount(mounted_dir, force_remount=True)"
   ]
  },
  {
   "cell_type": "code",
   "execution_count": null,
   "metadata": {},
   "outputs": [],
   "source": [
    "full_image_path = os.path.join(mounted_dir, 'MyDrive', images_dir)\n",
    "full_output_path = os.path.join(mounted_dir, 'MyDrive', output_dir)"
   ]
  },
  {
   "cell_type": "markdown",
   "metadata": {},
   "source": [
    "#### Helper function to extract features"
   ]
  },
  {
   "cell_type": "code",
   "execution_count": 13,
   "metadata": {
    "colab": {
     "base_uri": "https://localhost:8080/",
     "height": 383
    },
    "id": "MkYIhI_P_Z6t",
    "outputId": "d1d1f8d3-16bc-43bf-f4ff-7b4a292e274f"
   },
   "outputs": [],
   "source": [
    "def extract_features(\n",
    "                    model: Any,\n",
    "                    module_name: str,\n",
    "                    image_path: str,\n",
    "                    out_path: str,\n",
    "                    batch_size: int,\n",
    "                    flatten_activations: bool,\n",
    "                    apply_center_crop: bool,\n",
    "                    clip: bool=False,\n",
    ") -> np.ndarray:\n",
    "    dl = vision.load_dl(\n",
    "                        root=image_path,\n",
    "                        out_path=out_path,\n",
    "                        batch_size=batch_size,\n",
    "                        transforms=model.get_transformations(apply_center_crop=apply_center_crop),\n",
    "                        backend=backend,\n",
    "    )\n",
    "    features, _ = model.extract_features(\n",
    "                                        data_loader=dl,\n",
    "                                        module_name=module_name,\n",
    "                                        batch_size=batch_size,\n",
    "                                        flatten_acts=flatten_activations,\n",
    "                                        clip=clip,\n",
    "                                        return_probabilities=False,\n",
    "    )\n",
    "    return features"
   ]
  },
  {
   "cell_type": "markdown",
   "metadata": {},
   "source": [
    "### Variables"
   ]
  },
  {
   "cell_type": "code",
   "execution_count": 14,
   "metadata": {
    "id": "fvJFUBiJ_j0W"
   },
   "outputs": [],
   "source": [
    "backend = 'tf' # backend 'pt' for PyTorch or 'tf' for Tensorflow \n",
    "pretrained = True # use pretrained model weights\n",
    "model_path = None # if pretrained = False (i.e., randomly initialized weights) set path to model weights\n",
    "batch_size = 32 # use a power of two (this can be any size, depending on the number of images for which you aim to extract features)\n",
    "apply_center_crop = True # center crop images (set to False, if you don't want to center-crop images)\n",
    "flatten_activations = True # whether or not features (e.g., of Conv layers) should be flattened\n",
    "device = 'cuda' if torch.cuda.is_available() else 'cpu'"
   ]
  },
  {
   "cell_type": "markdown",
   "metadata": {},
   "source": [
    "Select `model` and `layer` for which you want to extract image features. If you want to extract features from a `torchvision` model, use the model naming defined [here](https://pytorch.org/vision/stable/models.html) (e.g., `vgg16` if you want to use VGG-16). If you are uncertain about the naming and enumeration of the layers, use `model.show()` to see how specific layers called."
   ]
  },
  {
   "cell_type": "markdown",
   "metadata": {},
   "source": [
    "### VGG-16 (pretrained on ImageNet)"
   ]
  },
  {
   "cell_type": "code",
   "execution_count": 7,
   "metadata": {},
   "outputs": [
    {
     "name": "stderr",
     "output_type": "stream",
     "text": [
      "2022-01-26 14:39:45.363506: I tensorflow/core/platform/cpu_feature_guard.cc:142] This TensorFlow binary is optimized with oneAPI Deep Neural Network Library (oneDNN) to use the following CPU instructions in performance-critical operations:  AVX2 FMA\n",
      "To enable them in other operations, rebuild TensorFlow with the appropriate compiler flags.\n"
     ]
    }
   ],
   "source": [
    "## load model\n",
    "model_name = 'VGG16' \n",
    "model = Model(\n",
    "            model_name,\n",
    "            pretrained=pretrained,\n",
    "            model_path=model_path,\n",
    "            device=device,\n",
    "            backend=backend,\n",
    ")"
   ]
  },
  {
   "cell_type": "code",
   "execution_count": 15,
   "metadata": {},
   "outputs": [],
   "source": [
    "## select layer\n",
    "\n",
    "# NOTE: uncomment the line below, if you are uncertain about layer naming\n",
    "#module_name = model.show() \n",
    "module_name = 'features.23' "
   ]
  },
  {
   "cell_type": "code",
   "execution_count": 15,
   "metadata": {
    "scrolled": true
   },
   "outputs": [
    {
     "name": "stdout",
     "output_type": "stream",
     "text": [
      "VGG(\n",
      "  (features): Sequential(\n",
      "    (0): Conv2d(3, 64, kernel_size=(3, 3), stride=(1, 1), padding=(1, 1))\n",
      "    (1): ReLU(inplace=True)\n",
      "    (2): Conv2d(64, 64, kernel_size=(3, 3), stride=(1, 1), padding=(1, 1))\n",
      "    (3): ReLU(inplace=True)\n",
      "    (4): MaxPool2d(kernel_size=2, stride=2, padding=0, dilation=1, ceil_mode=False)\n",
      "    (5): Conv2d(64, 128, kernel_size=(3, 3), stride=(1, 1), padding=(1, 1))\n",
      "    (6): ReLU(inplace=True)\n",
      "    (7): Conv2d(128, 128, kernel_size=(3, 3), stride=(1, 1), padding=(1, 1))\n",
      "    (8): ReLU(inplace=True)\n",
      "    (9): MaxPool2d(kernel_size=2, stride=2, padding=0, dilation=1, ceil_mode=False)\n",
      "    (10): Conv2d(128, 256, kernel_size=(3, 3), stride=(1, 1), padding=(1, 1))\n",
      "    (11): ReLU(inplace=True)\n",
      "    (12): Conv2d(256, 256, kernel_size=(3, 3), stride=(1, 1), padding=(1, 1))\n",
      "    (13): ReLU(inplace=True)\n",
      "    (14): Conv2d(256, 256, kernel_size=(3, 3), stride=(1, 1), padding=(1, 1))\n",
      "    (15): ReLU(inplace=True)\n",
      "    (16): MaxPool2d(kernel_size=2, stride=2, padding=0, dilation=1, ceil_mode=False)\n",
      "    (17): Conv2d(256, 512, kernel_size=(3, 3), stride=(1, 1), padding=(1, 1))\n",
      "    (18): ReLU(inplace=True)\n",
      "    (19): Conv2d(512, 512, kernel_size=(3, 3), stride=(1, 1), padding=(1, 1))\n",
      "    (20): ReLU(inplace=True)\n",
      "    (21): Conv2d(512, 512, kernel_size=(3, 3), stride=(1, 1), padding=(1, 1))\n",
      "    (22): ReLU(inplace=True)\n",
      "    (23): MaxPool2d(kernel_size=2, stride=2, padding=0, dilation=1, ceil_mode=False)\n",
      "    (24): Conv2d(512, 512, kernel_size=(3, 3), stride=(1, 1), padding=(1, 1))\n",
      "    (25): ReLU(inplace=True)\n",
      "    (26): Conv2d(512, 512, kernel_size=(3, 3), stride=(1, 1), padding=(1, 1))\n",
      "    (27): ReLU(inplace=True)\n",
      "    (28): Conv2d(512, 512, kernel_size=(3, 3), stride=(1, 1), padding=(1, 1))\n",
      "    (29): ReLU(inplace=True)\n",
      "    (30): MaxPool2d(kernel_size=2, stride=2, padding=0, dilation=1, ceil_mode=False)\n",
      "  )\n",
      "  (avgpool): AdaptiveAvgPool2d(output_size=(7, 7))\n",
      "  (classifier): Sequential(\n",
      "    (0): Linear(in_features=25088, out_features=4096, bias=True)\n",
      "    (1): ReLU(inplace=True)\n",
      "    (2): Dropout(p=0.5, inplace=False)\n",
      "    (3): Linear(in_features=4096, out_features=4096, bias=True)\n",
      "    (4): ReLU(inplace=True)\n",
      "    (5): Dropout(p=0.5, inplace=False)\n",
      "    (6): Linear(in_features=4096, out_features=1000, bias=True)\n",
      "  )\n",
      ")\n",
      "\n",
      "Enter module name for which you would like to extract features:\n",
      "\n",
      "classifier.3\n",
      "\n"
     ]
    }
   ],
   "source": [
    "# extract features\n",
    "features = extract_features(\n",
    "                            model=model,\n",
    "                            module_name=module_name,\n",
    "                            image_path=full_image_path,\n",
    "                            out_path=full_out_path,\n",
    "                            batch_size=batch_size,\n",
    "                            flatten_activations=flatten_activations,\n",
    "                            apply_center_crop=apply_center_crop,\n",
    "                            clip=False,\n",
    ")\n",
    "\n",
    "# save features to disk\n",
    "vision.save_features(features, f'{full_output_dir}/features_{model_name}_{module_name}', 'npy')"
   ]
  }
 ],
 "metadata": {
  "colab": {
   "collapsed_sections": [],
   "name": "THINGSVISION.ipynb",
   "provenance": []
  },
  "kernelspec": {
   "display_name": "Python 3 (ipykernel)",
   "language": "python",
   "name": "python3"
  },
  "language_info": {
   "codemirror_mode": {
    "name": "ipython",
    "version": 3
   },
   "file_extension": ".py",
   "mimetype": "text/x-python",
   "name": "python",
   "nbconvert_exporter": "python",
   "pygments_lexer": "ipython3",
   "version": "3.8.10"
  }
 },
 "nbformat": 4,
 "nbformat_minor": 1
}
